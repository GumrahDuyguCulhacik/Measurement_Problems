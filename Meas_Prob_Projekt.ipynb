{
 "cells": [
  {
   "cell_type": "markdown",
   "id": "3d69d8b2-26d7-4343-912f-7dcf616644a7",
   "metadata": {},
   "source": [
    "Hausaufgabe5_Measurament Problems"
   ]
  },
  {
   "cell_type": "markdown",
   "id": "3f19d823-b843-49b6-b3a0-54f60e61b99c",
   "metadata": {},
   "source": [
    "#Datensatzgeschichte\n",
    "In diesem Projekt werden wir Bewertungsdaten von einer E-Commerce-Plattform verwenden.\n",
    "Der Datensatz enthält Benutzerbewertungen und Kommentare zu einem Produkt.\n",
    "Die im Datensatz enthaltenen Variablen sind wie folgt:\n",
    "reviewerID: Bewerter (Benutzer) ID\n",
    "productID: Produkt ID\n",
    "reviewerName: Benutzer Name\n",
    "helpful: Nützlichkeitsbewertungsgrad\n",
    "reviewText: Bewertungstext\n",
    "overall: Produktbewertung (1-5)\n",
    "summary: Bewertungsübersicht\n",
    "unixReviewTime: Bewertungszeit (Unix-Zeitstempel)\n",
    "reviewTime: Bewertungszeit (im rohen Format)\n",
    "day_diff: Anzahl der Tage seit der Bewertung\n",
    "helpfull_yes: Anzahl der als nützlich bewerteten Stimmen\n",
    "total vote: Gesamtanzahl der für die Bewertung abgegebenen Stimmen\n",
    "\n"
   ]
  },
  {
   "cell_type": "code",
   "execution_count": 19,
   "id": "e9f29e8a-e47b-4790-9935-15a80fde30b5",
   "metadata": {},
   "outputs": [],
   "source": [
    "import pandas as pd\n",
    "import seaborn as sns\n",
    "import math\n",
    "import scipy.stats as st"
   ]
  },
  {
   "cell_type": "code",
   "execution_count": 20,
   "id": "307e4f9f-a25e-4a72-8633-cb4b5393aa31",
   "metadata": {},
   "outputs": [],
   "source": [
    "pd.set_option(\"display.max_columns\", None)\n",
    "pd.set_option(\"display.expand_frame_repr\", False)\n",
    "pd.set_option(\"display.float_format\", lambda x: \"%5f\" % x)"
   ]
  },
  {
   "cell_type": "code",
   "execution_count": 21,
   "id": "192db2f5-1015-4b5a-a580-6a5253eb6d0e",
   "metadata": {},
   "outputs": [],
   "source": [
    "df= pd.read_csv(r\"C:\\Users\\User Laptop\\Desktop\\phyton\\phyton_ders\\ödevler\\ödev5\\amazon_review.csv\")\n"
   ]
  },
  {
   "cell_type": "code",
   "execution_count": 23,
   "id": "c086b76e-2b49-4107-a11a-7ff4b00dade2",
   "metadata": {},
   "outputs": [],
   "source": [
    "df= df.rename(columns ={\"asin\": \"productID\"})"
   ]
  },
  {
   "cell_type": "code",
   "execution_count": 24,
   "id": "22b74fad-e646-4381-b892-c4d39c19bd9d",
   "metadata": {},
   "outputs": [
    {
     "data": {
      "text/html": [
       "<div>\n",
       "<style scoped>\n",
       "    .dataframe tbody tr th:only-of-type {\n",
       "        vertical-align: middle;\n",
       "    }\n",
       "\n",
       "    .dataframe tbody tr th {\n",
       "        vertical-align: top;\n",
       "    }\n",
       "\n",
       "    .dataframe thead th {\n",
       "        text-align: right;\n",
       "    }\n",
       "</style>\n",
       "<table border=\"1\" class=\"dataframe\">\n",
       "  <thead>\n",
       "    <tr style=\"text-align: right;\">\n",
       "      <th></th>\n",
       "      <th>reviewerID</th>\n",
       "      <th>productID</th>\n",
       "      <th>reviewerName</th>\n",
       "      <th>helpful</th>\n",
       "      <th>reviewText</th>\n",
       "      <th>overall</th>\n",
       "      <th>summary</th>\n",
       "      <th>unixReviewTime</th>\n",
       "      <th>reviewTime</th>\n",
       "      <th>day_diff</th>\n",
       "      <th>helpful_yes</th>\n",
       "      <th>total_vote</th>\n",
       "    </tr>\n",
       "  </thead>\n",
       "  <tbody>\n",
       "    <tr>\n",
       "      <th>0</th>\n",
       "      <td>A3SBTW3WS4IQSN</td>\n",
       "      <td>B007WTAJTO</td>\n",
       "      <td>NaN</td>\n",
       "      <td>[0, 0]</td>\n",
       "      <td>No issues.</td>\n",
       "      <td>4.000000</td>\n",
       "      <td>Four Stars</td>\n",
       "      <td>1406073600</td>\n",
       "      <td>2014-07-23</td>\n",
       "      <td>138</td>\n",
       "      <td>0</td>\n",
       "      <td>0</td>\n",
       "    </tr>\n",
       "    <tr>\n",
       "      <th>1</th>\n",
       "      <td>A18K1ODH1I2MVB</td>\n",
       "      <td>B007WTAJTO</td>\n",
       "      <td>0mie</td>\n",
       "      <td>[0, 0]</td>\n",
       "      <td>Purchased this for my device, it worked as adv...</td>\n",
       "      <td>5.000000</td>\n",
       "      <td>MOAR SPACE!!!</td>\n",
       "      <td>1382659200</td>\n",
       "      <td>2013-10-25</td>\n",
       "      <td>409</td>\n",
       "      <td>0</td>\n",
       "      <td>0</td>\n",
       "    </tr>\n",
       "    <tr>\n",
       "      <th>2</th>\n",
       "      <td>A2FII3I2MBMUIA</td>\n",
       "      <td>B007WTAJTO</td>\n",
       "      <td>1K3</td>\n",
       "      <td>[0, 0]</td>\n",
       "      <td>it works as expected. I should have sprung for...</td>\n",
       "      <td>4.000000</td>\n",
       "      <td>nothing to really say....</td>\n",
       "      <td>1356220800</td>\n",
       "      <td>2012-12-23</td>\n",
       "      <td>715</td>\n",
       "      <td>0</td>\n",
       "      <td>0</td>\n",
       "    </tr>\n",
       "    <tr>\n",
       "      <th>3</th>\n",
       "      <td>A3H99DFEG68SR</td>\n",
       "      <td>B007WTAJTO</td>\n",
       "      <td>1m2</td>\n",
       "      <td>[0, 0]</td>\n",
       "      <td>This think has worked out great.Had a diff. br...</td>\n",
       "      <td>5.000000</td>\n",
       "      <td>Great buy at this price!!!  *** UPDATE</td>\n",
       "      <td>1384992000</td>\n",
       "      <td>2013-11-21</td>\n",
       "      <td>382</td>\n",
       "      <td>0</td>\n",
       "      <td>0</td>\n",
       "    </tr>\n",
       "    <tr>\n",
       "      <th>4</th>\n",
       "      <td>A375ZM4U047O79</td>\n",
       "      <td>B007WTAJTO</td>\n",
       "      <td>2&amp;amp;1/2Men</td>\n",
       "      <td>[0, 0]</td>\n",
       "      <td>Bought it with Retail Packaging, arrived legit...</td>\n",
       "      <td>5.000000</td>\n",
       "      <td>best deal around</td>\n",
       "      <td>1373673600</td>\n",
       "      <td>2013-07-13</td>\n",
       "      <td>513</td>\n",
       "      <td>0</td>\n",
       "      <td>0</td>\n",
       "    </tr>\n",
       "    <tr>\n",
       "      <th>5</th>\n",
       "      <td>A2IDCSC6NVONIZ</td>\n",
       "      <td>B007WTAJTO</td>\n",
       "      <td>2Cents!</td>\n",
       "      <td>[0, 0]</td>\n",
       "      <td>It's mini storage.  It doesn't do anything els...</td>\n",
       "      <td>5.000000</td>\n",
       "      <td>Not a lot to really be said</td>\n",
       "      <td>1367193600</td>\n",
       "      <td>2013-04-29</td>\n",
       "      <td>588</td>\n",
       "      <td>0</td>\n",
       "      <td>0</td>\n",
       "    </tr>\n",
       "    <tr>\n",
       "      <th>6</th>\n",
       "      <td>A26YHXZD5UFPVQ</td>\n",
       "      <td>B007WTAJTO</td>\n",
       "      <td>2K1Toaster</td>\n",
       "      <td>[0, 0]</td>\n",
       "      <td>I have it in my phone and it never skips a bea...</td>\n",
       "      <td>5.000000</td>\n",
       "      <td>Works well</td>\n",
       "      <td>1382140800</td>\n",
       "      <td>2013-10-19</td>\n",
       "      <td>415</td>\n",
       "      <td>0</td>\n",
       "      <td>0</td>\n",
       "    </tr>\n",
       "    <tr>\n",
       "      <th>7</th>\n",
       "      <td>A3CW0ZLUO5X2B1</td>\n",
       "      <td>B007WTAJTO</td>\n",
       "      <td>35-year Technology Consumer \"8-tracks to 802.11\"</td>\n",
       "      <td>[0, 0]</td>\n",
       "      <td>It's hard to believe how affordable digital ha...</td>\n",
       "      <td>5.000000</td>\n",
       "      <td>32 GB for less than two sawbucks...what's not ...</td>\n",
       "      <td>1404950400</td>\n",
       "      <td>2014-10-07</td>\n",
       "      <td>62</td>\n",
       "      <td>0</td>\n",
       "      <td>0</td>\n",
       "    </tr>\n",
       "  </tbody>\n",
       "</table>\n",
       "</div>"
      ],
      "text/plain": [
       "       reviewerID   productID                                      reviewerName helpful                                         reviewText  overall                                            summary  unixReviewTime  reviewTime  day_diff  helpful_yes  total_vote\n",
       "0  A3SBTW3WS4IQSN  B007WTAJTO                                               NaN  [0, 0]                                         No issues. 4.000000                                         Four Stars      1406073600  2014-07-23       138            0           0\n",
       "1  A18K1ODH1I2MVB  B007WTAJTO                                              0mie  [0, 0]  Purchased this for my device, it worked as adv... 5.000000                                      MOAR SPACE!!!      1382659200  2013-10-25       409            0           0\n",
       "2  A2FII3I2MBMUIA  B007WTAJTO                                               1K3  [0, 0]  it works as expected. I should have sprung for... 4.000000                          nothing to really say....      1356220800  2012-12-23       715            0           0\n",
       "3   A3H99DFEG68SR  B007WTAJTO                                               1m2  [0, 0]  This think has worked out great.Had a diff. br... 5.000000             Great buy at this price!!!  *** UPDATE      1384992000  2013-11-21       382            0           0\n",
       "4  A375ZM4U047O79  B007WTAJTO                                      2&amp;1/2Men  [0, 0]  Bought it with Retail Packaging, arrived legit... 5.000000                                   best deal around      1373673600  2013-07-13       513            0           0\n",
       "5  A2IDCSC6NVONIZ  B007WTAJTO                                           2Cents!  [0, 0]  It's mini storage.  It doesn't do anything els... 5.000000                        Not a lot to really be said      1367193600  2013-04-29       588            0           0\n",
       "6  A26YHXZD5UFPVQ  B007WTAJTO                                        2K1Toaster  [0, 0]  I have it in my phone and it never skips a bea... 5.000000                                         Works well      1382140800  2013-10-19       415            0           0\n",
       "7  A3CW0ZLUO5X2B1  B007WTAJTO  35-year Technology Consumer \"8-tracks to 802.11\"  [0, 0]  It's hard to believe how affordable digital ha... 5.000000  32 GB for less than two sawbucks...what's not ...      1404950400  2014-10-07        62            0           0"
      ]
     },
     "execution_count": 24,
     "metadata": {},
     "output_type": "execute_result"
    }
   ],
   "source": [
    "df.head(8)"
   ]
  },
  {
   "cell_type": "code",
   "execution_count": 25,
   "id": "756582fb-1665-456d-b614-9236d5eab2cb",
   "metadata": {},
   "outputs": [
    {
     "name": "stdout",
     "output_type": "stream",
     "text": [
      "<class 'pandas.core.frame.DataFrame'>\n",
      "RangeIndex: 4915 entries, 0 to 4914\n",
      "Data columns (total 12 columns):\n",
      " #   Column          Non-Null Count  Dtype  \n",
      "---  ------          --------------  -----  \n",
      " 0   reviewerID      4915 non-null   object \n",
      " 1   productID       4915 non-null   object \n",
      " 2   reviewerName    4914 non-null   object \n",
      " 3   helpful         4915 non-null   object \n",
      " 4   reviewText      4914 non-null   object \n",
      " 5   overall         4915 non-null   float64\n",
      " 6   summary         4915 non-null   object \n",
      " 7   unixReviewTime  4915 non-null   int64  \n",
      " 8   reviewTime      4915 non-null   object \n",
      " 9   day_diff        4915 non-null   int64  \n",
      " 10  helpful_yes     4915 non-null   int64  \n",
      " 11  total_vote      4915 non-null   int64  \n",
      "dtypes: float64(1), int64(4), object(7)\n",
      "memory usage: 460.9+ KB\n"
     ]
    }
   ],
   "source": [
    "df.info()"
   ]
  },
  {
   "cell_type": "markdown",
   "id": "02d16560-1808-44dd-ba29-5df3fa84c7c4",
   "metadata": {},
   "source": [
    "#Aufgabe_1 Berechnen Sie die durchschnittliche Bewertung basierend auf aktuellen Bewertungen\n",
    "\n",
    "In dieser Aufgabe werden Sie die durchschnittliche Bewertung eines Produkts anhand aktueller Bewertungen gewichtet berechnen \n",
    "(gewichteter Durchschnitt) und mit der bestehenden Durchschnittsbewertung vergleichen\n",
    "1-Berechnen Sie die aktuelle durchschnittliche Bewertung des Produkts.\n",
    "2-Berechnen Sie den gewichteten Durchschnitt basierend auf dem Datum und geben Sie neueren Daten mehr Gewicht\n",
    "3-Vergleichen Sie die gewichtete durchschnittliche Bewertung mit der aktuellen durchschnittlichen Bewertung und kommentieren Sie sie\n"
   ]
  },
  {
   "cell_type": "markdown",
   "id": "58d28a25-f00e-4e88-b600-4e1686a186a4",
   "metadata": {},
   "source": [
    "1-Berechnen Sie die aktuelle durchschnittliche Bewertung des Produkts."
   ]
  },
  {
   "cell_type": "code",
   "execution_count": 28,
   "id": "49c3b520-99b1-41eb-aa8d-16db5e53e76d",
   "metadata": {},
   "outputs": [
    {
     "data": {
      "text/plain": [
       "productID\n",
       "B007WTAJTO   4.587589\n",
       "Name: overall, dtype: float64"
      ]
     },
     "execution_count": 28,
     "metadata": {},
     "output_type": "execute_result"
    }
   ],
   "source": [
    "df.groupby(\"productID\")[\"overall\"].mean()"
   ]
  },
  {
   "cell_type": "markdown",
   "id": "3087d30d-daaa-43ee-95da-9ab47f46709c",
   "metadata": {},
   "source": [
    "2- Berechnen Sie den gewichteten Durchschnitt basierend auf dem Datum und geben Sie neueren Daten mehr Gewicht"
   ]
  },
  {
   "cell_type": "code",
   "execution_count": 30,
   "id": "8c8df580-96c1-469e-af78-bb1ead429ae9",
   "metadata": {},
   "outputs": [],
   "source": [
    "df[\"reviewTime\"]= pd.to_datetime(df[\"reviewTime\"], errors= \"coerce\")  ##den Datentyp 'object' in 'datetime' umgewandelt"
   ]
  },
  {
   "cell_type": "code",
   "execution_count": 39,
   "id": "4c7289eb-70ff-4bca-856a-b527c640c643",
   "metadata": {},
   "outputs": [
    {
     "name": "stdout",
     "output_type": "stream",
     "text": [
      "datetime64[ns]\n"
     ]
    }
   ],
   "source": [
    "print(df[\"reviewTime\"].dtype)"
   ]
  },
  {
   "cell_type": "code",
   "execution_count": 43,
   "id": "fe6c6ac7-3469-4579-a003-9110b1ccc051",
   "metadata": {},
   "outputs": [],
   "source": [
    "current_date= df[\"reviewTime\"].max()"
   ]
  },
  {
   "cell_type": "code",
   "execution_count": 44,
   "id": "677c0e36-6f4d-4e3a-ae0a-f17779d117d6",
   "metadata": {},
   "outputs": [],
   "source": [
    "df[\"days\"]= (current_date - df[\"reviewTime\"]).dt.days"
   ]
  },
  {
   "cell_type": "code",
   "execution_count": 45,
   "id": "33fe8de6-402a-4977-a670-28798f12200b",
   "metadata": {},
   "outputs": [
    {
     "data": {
      "text/plain": [
       "count   4915.000000\n",
       "mean     436.367040\n",
       "std      209.439871\n",
       "min        0.000000\n",
       "25%      280.000000\n",
       "50%      430.000000\n",
       "75%      600.000000\n",
       "max     1063.000000\n",
       "Name: days, dtype: float64"
      ]
     },
     "execution_count": 45,
     "metadata": {},
     "output_type": "execute_result"
    }
   ],
   "source": [
    "df[\"days\"].describe().T"
   ]
  },
  {
   "cell_type": "code",
   "execution_count": 48,
   "id": "533bbd9c-aefa-4e49-b9bb-df4bb78854b5",
   "metadata": {},
   "outputs": [
    {
     "data": {
      "text/plain": [
       "4.57933124861244"
      ]
     },
     "execution_count": 48,
     "metadata": {},
     "output_type": "execute_result"
    }
   ],
   "source": [
    "def time_based_weighted_average(dataframe, w1=22, w2=24, w3=26, w4=28):\n",
    "    return dataframe.loc[(dataframe[\"days\"] <= 280), \"overall\"].mean() * w1 / 100 + \\\n",
    "           dataframe.loc[(dataframe[\"days\"] > 280) & (dataframe[\"days\"] <= 430), \"overall\"].mean() * w2 / 100 + \\\n",
    "           dataframe.loc[(dataframe[\"days\"] > 430) & (dataframe[\"days\"] <= 600), \"overall\"].mean() * w3 / 100 + \\\n",
    "           dataframe.loc[(dataframe[\"days\"] > 600),\"overall\"].mean() * w4 / 100\n",
    "\n",
    "\n",
    "time_based_weighted_average(df)"
   ]
  },
  {
   "cell_type": "markdown",
   "id": "3ac5e068-7ad8-4f2c-8897-ed2a1bd9b772",
   "metadata": {},
   "source": [
    "##\"day_diff\" definiert Anzahl der Tage seit der Bewertung, daher können Funktionen direkt darauf entwickelt werden, ohne Zeitumwandlungen durchzuführen"
   ]
  },
  {
   "cell_type": "code",
   "execution_count": 42,
   "id": "85354db2-e55a-449c-a71a-c262e817a21e",
   "metadata": {},
   "outputs": [
    {
     "data": {
      "text/plain": [
       "count   4915.000000\n",
       "mean     437.367040\n",
       "std      209.439871\n",
       "min        1.000000\n",
       "25%      281.000000\n",
       "50%      431.000000\n",
       "75%      601.000000\n",
       "max     1064.000000\n",
       "Name: day_diff, dtype: float64"
      ]
     },
     "execution_count": 42,
     "metadata": {},
     "output_type": "execute_result"
    }
   ],
   "source": [
    "df[\"day_diff\"].describe().T"
   ]
  },
  {
   "cell_type": "code",
   "execution_count": 49,
   "id": "6cda1034-fc51-41d2-af8a-fb5e37503bf7",
   "metadata": {},
   "outputs": [
    {
     "data": {
      "text/plain": [
       "4.57933124861244"
      ]
     },
     "execution_count": 49,
     "metadata": {},
     "output_type": "execute_result"
    }
   ],
   "source": [
    "def time_based_weighted_average2(dataframe, w1=22, w2=24, w3=26, w4=28):\n",
    "    return dataframe.loc[(dataframe[\"day_diff\"] <= 281), \"overall\"].mean() * w1 / 100 + \\\n",
    "           dataframe.loc[(dataframe[\"day_diff\"] > 281) & (dataframe[\"day_diff\"] <= 431), \"overall\"].mean() * w2 / 100 + \\\n",
    "           dataframe.loc[(dataframe[\"day_diff\"] > 431) & (dataframe[\"day_diff\"] <= 601), \"overall\"].mean() * w3 / 100 + \\\n",
    "           dataframe.loc[(dataframe[\"day_diff\"] > 601),\"overall\"].mean() * w4 / 100\n",
    "\n",
    "\n",
    "time_based_weighted_average2(df)"
   ]
  },
  {
   "cell_type": "markdown",
   "id": "0fc8facc-2974-45e4-933a-c8dc389bbb69",
   "metadata": {},
   "source": [
    "3-Vergleichen Sie die gewichtete durchschnittliche Bewertung mit der aktuellen durchschnittlichen Bewertung und kommentieren Sie sie"
   ]
  },
  {
   "cell_type": "code",
   "execution_count": null,
   "id": "56b617fa-509a-4855-82bb-b1fa210b215a",
   "metadata": {},
   "outputs": [],
   "source": [
    "#aktuellen durchschnittlichen Bewertung= 4.587589\n",
    "#time_based_weighted_average= 4.57933124861244"
   ]
  },
  {
   "cell_type": "markdown",
   "id": "0b72d47c-bf46-4812-8aca-02a22c6f8583",
   "metadata": {},
   "source": [
    "#Aufgabe_2 Bestimmen Sie die 20 Kommentare, die auf der Produktdetailseite angezeigt werden sollen\n",
    "1- Erstellen Sie die Variable 'helpful_no'\n",
    "2- Berechnen Sie \"score_pos_neg_diff\", \"score_average_rating\", \"Wilson Lower Bound\"\n",
    "3- Wählen Sie die 20 Bewertungen mit der höchsten Punktzahl basierend auf der Wilson-Lower-Bound-Methode aus"
   ]
  },
  {
   "cell_type": "code",
   "execution_count": 50,
   "id": "5487114d-128b-4e34-9e84-2687f038d966",
   "metadata": {},
   "outputs": [],
   "source": [
    "df[\"helpful_no\"]= df[\"total_vote\"] - df[\"helpful_yes\"]"
   ]
  },
  {
   "cell_type": "code",
   "execution_count": 52,
   "id": "89fc03fe-a5c5-42c2-ae14-a8227a0bbb62",
   "metadata": {},
   "outputs": [
    {
     "data": {
      "text/html": [
       "<div>\n",
       "<style scoped>\n",
       "    .dataframe tbody tr th:only-of-type {\n",
       "        vertical-align: middle;\n",
       "    }\n",
       "\n",
       "    .dataframe tbody tr th {\n",
       "        vertical-align: top;\n",
       "    }\n",
       "\n",
       "    .dataframe thead th {\n",
       "        text-align: right;\n",
       "    }\n",
       "</style>\n",
       "<table border=\"1\" class=\"dataframe\">\n",
       "  <thead>\n",
       "    <tr style=\"text-align: right;\">\n",
       "      <th></th>\n",
       "      <th>reviewerID</th>\n",
       "      <th>productID</th>\n",
       "      <th>reviewerName</th>\n",
       "      <th>helpful</th>\n",
       "      <th>reviewText</th>\n",
       "      <th>overall</th>\n",
       "      <th>summary</th>\n",
       "      <th>unixReviewTime</th>\n",
       "      <th>reviewTime</th>\n",
       "      <th>day_diff</th>\n",
       "      <th>helpful_yes</th>\n",
       "      <th>total_vote</th>\n",
       "      <th>days</th>\n",
       "      <th>helpful_no</th>\n",
       "    </tr>\n",
       "  </thead>\n",
       "  <tbody>\n",
       "    <tr>\n",
       "      <th>0</th>\n",
       "      <td>A3SBTW3WS4IQSN</td>\n",
       "      <td>B007WTAJTO</td>\n",
       "      <td>NaN</td>\n",
       "      <td>[0, 0]</td>\n",
       "      <td>No issues.</td>\n",
       "      <td>4.000000</td>\n",
       "      <td>Four Stars</td>\n",
       "      <td>1406073600</td>\n",
       "      <td>2014-07-23</td>\n",
       "      <td>138</td>\n",
       "      <td>0</td>\n",
       "      <td>0</td>\n",
       "      <td>137</td>\n",
       "      <td>0</td>\n",
       "    </tr>\n",
       "    <tr>\n",
       "      <th>1</th>\n",
       "      <td>A18K1ODH1I2MVB</td>\n",
       "      <td>B007WTAJTO</td>\n",
       "      <td>0mie</td>\n",
       "      <td>[0, 0]</td>\n",
       "      <td>Purchased this for my device, it worked as adv...</td>\n",
       "      <td>5.000000</td>\n",
       "      <td>MOAR SPACE!!!</td>\n",
       "      <td>1382659200</td>\n",
       "      <td>2013-10-25</td>\n",
       "      <td>409</td>\n",
       "      <td>0</td>\n",
       "      <td>0</td>\n",
       "      <td>408</td>\n",
       "      <td>0</td>\n",
       "    </tr>\n",
       "    <tr>\n",
       "      <th>2</th>\n",
       "      <td>A2FII3I2MBMUIA</td>\n",
       "      <td>B007WTAJTO</td>\n",
       "      <td>1K3</td>\n",
       "      <td>[0, 0]</td>\n",
       "      <td>it works as expected. I should have sprung for...</td>\n",
       "      <td>4.000000</td>\n",
       "      <td>nothing to really say....</td>\n",
       "      <td>1356220800</td>\n",
       "      <td>2012-12-23</td>\n",
       "      <td>715</td>\n",
       "      <td>0</td>\n",
       "      <td>0</td>\n",
       "      <td>714</td>\n",
       "      <td>0</td>\n",
       "    </tr>\n",
       "    <tr>\n",
       "      <th>3</th>\n",
       "      <td>A3H99DFEG68SR</td>\n",
       "      <td>B007WTAJTO</td>\n",
       "      <td>1m2</td>\n",
       "      <td>[0, 0]</td>\n",
       "      <td>This think has worked out great.Had a diff. br...</td>\n",
       "      <td>5.000000</td>\n",
       "      <td>Great buy at this price!!!  *** UPDATE</td>\n",
       "      <td>1384992000</td>\n",
       "      <td>2013-11-21</td>\n",
       "      <td>382</td>\n",
       "      <td>0</td>\n",
       "      <td>0</td>\n",
       "      <td>381</td>\n",
       "      <td>0</td>\n",
       "    </tr>\n",
       "    <tr>\n",
       "      <th>4</th>\n",
       "      <td>A375ZM4U047O79</td>\n",
       "      <td>B007WTAJTO</td>\n",
       "      <td>2&amp;amp;1/2Men</td>\n",
       "      <td>[0, 0]</td>\n",
       "      <td>Bought it with Retail Packaging, arrived legit...</td>\n",
       "      <td>5.000000</td>\n",
       "      <td>best deal around</td>\n",
       "      <td>1373673600</td>\n",
       "      <td>2013-07-13</td>\n",
       "      <td>513</td>\n",
       "      <td>0</td>\n",
       "      <td>0</td>\n",
       "      <td>512</td>\n",
       "      <td>0</td>\n",
       "    </tr>\n",
       "  </tbody>\n",
       "</table>\n",
       "</div>"
      ],
      "text/plain": [
       "       reviewerID   productID  reviewerName helpful                                         reviewText  overall                                 summary  unixReviewTime reviewTime  day_diff  helpful_yes  total_vote  days  helpful_no\n",
       "0  A3SBTW3WS4IQSN  B007WTAJTO           NaN  [0, 0]                                         No issues. 4.000000                              Four Stars      1406073600 2014-07-23       138            0           0   137           0\n",
       "1  A18K1ODH1I2MVB  B007WTAJTO          0mie  [0, 0]  Purchased this for my device, it worked as adv... 5.000000                           MOAR SPACE!!!      1382659200 2013-10-25       409            0           0   408           0\n",
       "2  A2FII3I2MBMUIA  B007WTAJTO           1K3  [0, 0]  it works as expected. I should have sprung for... 4.000000               nothing to really say....      1356220800 2012-12-23       715            0           0   714           0\n",
       "3   A3H99DFEG68SR  B007WTAJTO           1m2  [0, 0]  This think has worked out great.Had a diff. br... 5.000000  Great buy at this price!!!  *** UPDATE      1384992000 2013-11-21       382            0           0   381           0\n",
       "4  A375ZM4U047O79  B007WTAJTO  2&amp;1/2Men  [0, 0]  Bought it with Retail Packaging, arrived legit... 5.000000                        best deal around      1373673600 2013-07-13       513            0           0   512           0"
      ]
     },
     "execution_count": 52,
     "metadata": {},
     "output_type": "execute_result"
    }
   ],
   "source": [
    "df.head()"
   ]
  },
  {
   "cell_type": "markdown",
   "id": "7a82b8cc-1c3c-4619-b10c-69fc85e6fe0a",
   "metadata": {},
   "source": [
    "score_pos_neg_diff: Der Unterschied zwischen der Anzahl der nützlichen Stimmen und der Anzahl der nicht nützlichen Stimmen"
   ]
  },
  {
   "cell_type": "code",
   "execution_count": 53,
   "id": "4fd37112-5fdc-485d-955d-8107b860a1bf",
   "metadata": {},
   "outputs": [],
   "source": [
    "def score_pos_neg_diff(up, down):\n",
    "    return up - down\n",
    "df[\"score_pos_neg_diff\"] = df.apply(lambda x: score_pos_neg_diff(x[\"helpful_yes\"], x[\"helpful_no\"]), axis=1)"
   ]
  },
  {
   "cell_type": "markdown",
   "id": "c4e9b6e6-b1f0-41cf-a0a1-39c5f944f1f1",
   "metadata": {},
   "source": [
    "score_average_rating: Das Verhältnis der Anzahl der als nützlich bewerteten Stimmen zur Gesamtanzahl der Stimmen"
   ]
  },
  {
   "cell_type": "code",
   "execution_count": 54,
   "id": "277923ca-3ccb-4ae3-9e4d-4635be14f291",
   "metadata": {},
   "outputs": [],
   "source": [
    "def score_average_rating(up, down):\n",
    "    if up + down == 0:\n",
    "        return 0\n",
    "    return up / (up + down)\n",
    "df[\"score_average_rating\"] = df.apply(lambda x: score_average_rating(x[\"helpful_yes\"], x[\"helpful_no\"]), axis=1)"
   ]
  },
  {
   "cell_type": "markdown",
   "id": "c12522f9-e00b-4b45-9520-73d36c4a5537",
   "metadata": {},
   "source": [
    "wilsonlowerbound"
   ]
  },
  {
   "cell_type": "code",
   "execution_count": 55,
   "id": "462b7027-ef7f-4735-b21b-ca49125e1ee3",
   "metadata": {},
   "outputs": [],
   "source": [
    "def wilson_lower_bound(up, down, confidence=0.95):\n",
    "    n = up + down\n",
    "    if n == 0:\n",
    "        return 0\n",
    "    z = st.norm.ppf(1 - (1 - confidence) / 2)\n",
    "    phat = 1.0 * up / n\n",
    "    return (phat + z * z / (2 * n) - z * math.sqrt((phat * (1 - phat) + z * z / (4 * n)) / n)) / (1 + z * z / n)\n",
    "df[\"wilson_lower_bound\"] = df.apply(lambda x:\n",
    "wilson_lower_bound(x[\"helpful_yes\"], x[\"helpful_no\"]), axis=1)"
   ]
  },
  {
   "cell_type": "markdown",
   "id": "fb2629e4-7313-499e-90ba-14268276b742",
   "metadata": {},
   "source": [
    "3- Wählen Sie die 20 Bewertungen mit der höchsten Punktzahl basierend auf der Wilson-Lower-Bound-Methode aus"
   ]
  },
  {
   "cell_type": "code",
   "execution_count": 56,
   "id": "4205e54d-d210-4119-b774-e36746951648",
   "metadata": {},
   "outputs": [
    {
     "data": {
      "text/html": [
       "<div>\n",
       "<style scoped>\n",
       "    .dataframe tbody tr th:only-of-type {\n",
       "        vertical-align: middle;\n",
       "    }\n",
       "\n",
       "    .dataframe tbody tr th {\n",
       "        vertical-align: top;\n",
       "    }\n",
       "\n",
       "    .dataframe thead th {\n",
       "        text-align: right;\n",
       "    }\n",
       "</style>\n",
       "<table border=\"1\" class=\"dataframe\">\n",
       "  <thead>\n",
       "    <tr style=\"text-align: right;\">\n",
       "      <th></th>\n",
       "      <th>overall</th>\n",
       "      <th>helpful_yes</th>\n",
       "      <th>total_vote</th>\n",
       "      <th>days</th>\n",
       "      <th>helpful_no</th>\n",
       "      <th>score_pos_neg_diff</th>\n",
       "      <th>score_average_rating</th>\n",
       "      <th>wilson_lower_bound</th>\n",
       "    </tr>\n",
       "  </thead>\n",
       "  <tbody>\n",
       "    <tr>\n",
       "      <th>2031</th>\n",
       "      <td>5.000000</td>\n",
       "      <td>1952</td>\n",
       "      <td>2020</td>\n",
       "      <td>701</td>\n",
       "      <td>68</td>\n",
       "      <td>1884</td>\n",
       "      <td>0.966337</td>\n",
       "      <td>0.957544</td>\n",
       "    </tr>\n",
       "    <tr>\n",
       "      <th>3449</th>\n",
       "      <td>5.000000</td>\n",
       "      <td>1428</td>\n",
       "      <td>1505</td>\n",
       "      <td>802</td>\n",
       "      <td>77</td>\n",
       "      <td>1351</td>\n",
       "      <td>0.948837</td>\n",
       "      <td>0.936519</td>\n",
       "    </tr>\n",
       "    <tr>\n",
       "      <th>4212</th>\n",
       "      <td>1.000000</td>\n",
       "      <td>1568</td>\n",
       "      <td>1694</td>\n",
       "      <td>578</td>\n",
       "      <td>126</td>\n",
       "      <td>1442</td>\n",
       "      <td>0.925620</td>\n",
       "      <td>0.912139</td>\n",
       "    </tr>\n",
       "    <tr>\n",
       "      <th>317</th>\n",
       "      <td>1.000000</td>\n",
       "      <td>422</td>\n",
       "      <td>495</td>\n",
       "      <td>1032</td>\n",
       "      <td>73</td>\n",
       "      <td>349</td>\n",
       "      <td>0.852525</td>\n",
       "      <td>0.818577</td>\n",
       "    </tr>\n",
       "    <tr>\n",
       "      <th>4672</th>\n",
       "      <td>5.000000</td>\n",
       "      <td>45</td>\n",
       "      <td>49</td>\n",
       "      <td>157</td>\n",
       "      <td>4</td>\n",
       "      <td>41</td>\n",
       "      <td>0.918367</td>\n",
       "      <td>0.808109</td>\n",
       "    </tr>\n",
       "    <tr>\n",
       "      <th>1835</th>\n",
       "      <td>5.000000</td>\n",
       "      <td>60</td>\n",
       "      <td>68</td>\n",
       "      <td>282</td>\n",
       "      <td>8</td>\n",
       "      <td>52</td>\n",
       "      <td>0.882353</td>\n",
       "      <td>0.784651</td>\n",
       "    </tr>\n",
       "    <tr>\n",
       "      <th>3981</th>\n",
       "      <td>5.000000</td>\n",
       "      <td>112</td>\n",
       "      <td>139</td>\n",
       "      <td>776</td>\n",
       "      <td>27</td>\n",
       "      <td>85</td>\n",
       "      <td>0.805755</td>\n",
       "      <td>0.732136</td>\n",
       "    </tr>\n",
       "    <tr>\n",
       "      <th>3807</th>\n",
       "      <td>3.000000</td>\n",
       "      <td>22</td>\n",
       "      <td>25</td>\n",
       "      <td>648</td>\n",
       "      <td>3</td>\n",
       "      <td>19</td>\n",
       "      <td>0.880000</td>\n",
       "      <td>0.700442</td>\n",
       "    </tr>\n",
       "    <tr>\n",
       "      <th>4306</th>\n",
       "      <td>5.000000</td>\n",
       "      <td>51</td>\n",
       "      <td>65</td>\n",
       "      <td>822</td>\n",
       "      <td>14</td>\n",
       "      <td>37</td>\n",
       "      <td>0.784615</td>\n",
       "      <td>0.670334</td>\n",
       "    </tr>\n",
       "    <tr>\n",
       "      <th>4596</th>\n",
       "      <td>1.000000</td>\n",
       "      <td>82</td>\n",
       "      <td>109</td>\n",
       "      <td>806</td>\n",
       "      <td>27</td>\n",
       "      <td>55</td>\n",
       "      <td>0.752294</td>\n",
       "      <td>0.663595</td>\n",
       "    </tr>\n",
       "    <tr>\n",
       "      <th>315</th>\n",
       "      <td>5.000000</td>\n",
       "      <td>38</td>\n",
       "      <td>48</td>\n",
       "      <td>846</td>\n",
       "      <td>10</td>\n",
       "      <td>28</td>\n",
       "      <td>0.791667</td>\n",
       "      <td>0.657411</td>\n",
       "    </tr>\n",
       "    <tr>\n",
       "      <th>1465</th>\n",
       "      <td>4.000000</td>\n",
       "      <td>7</td>\n",
       "      <td>7</td>\n",
       "      <td>237</td>\n",
       "      <td>0</td>\n",
       "      <td>7</td>\n",
       "      <td>1.000000</td>\n",
       "      <td>0.645670</td>\n",
       "    </tr>\n",
       "    <tr>\n",
       "      <th>1609</th>\n",
       "      <td>5.000000</td>\n",
       "      <td>7</td>\n",
       "      <td>7</td>\n",
       "      <td>256</td>\n",
       "      <td>0</td>\n",
       "      <td>7</td>\n",
       "      <td>1.000000</td>\n",
       "      <td>0.645670</td>\n",
       "    </tr>\n",
       "    <tr>\n",
       "      <th>4302</th>\n",
       "      <td>5.000000</td>\n",
       "      <td>14</td>\n",
       "      <td>16</td>\n",
       "      <td>261</td>\n",
       "      <td>2</td>\n",
       "      <td>12</td>\n",
       "      <td>0.875000</td>\n",
       "      <td>0.639772</td>\n",
       "    </tr>\n",
       "    <tr>\n",
       "      <th>4072</th>\n",
       "      <td>5.000000</td>\n",
       "      <td>6</td>\n",
       "      <td>6</td>\n",
       "      <td>758</td>\n",
       "      <td>0</td>\n",
       "      <td>6</td>\n",
       "      <td>1.000000</td>\n",
       "      <td>0.609666</td>\n",
       "    </tr>\n",
       "    <tr>\n",
       "      <th>1072</th>\n",
       "      <td>5.000000</td>\n",
       "      <td>5</td>\n",
       "      <td>5</td>\n",
       "      <td>941</td>\n",
       "      <td>0</td>\n",
       "      <td>5</td>\n",
       "      <td>1.000000</td>\n",
       "      <td>0.565518</td>\n",
       "    </tr>\n",
       "    <tr>\n",
       "      <th>2583</th>\n",
       "      <td>5.000000</td>\n",
       "      <td>5</td>\n",
       "      <td>5</td>\n",
       "      <td>488</td>\n",
       "      <td>0</td>\n",
       "      <td>5</td>\n",
       "      <td>1.000000</td>\n",
       "      <td>0.565518</td>\n",
       "    </tr>\n",
       "    <tr>\n",
       "      <th>121</th>\n",
       "      <td>5.000000</td>\n",
       "      <td>5</td>\n",
       "      <td>5</td>\n",
       "      <td>942</td>\n",
       "      <td>0</td>\n",
       "      <td>5</td>\n",
       "      <td>1.000000</td>\n",
       "      <td>0.565518</td>\n",
       "    </tr>\n",
       "    <tr>\n",
       "      <th>1142</th>\n",
       "      <td>5.000000</td>\n",
       "      <td>5</td>\n",
       "      <td>5</td>\n",
       "      <td>306</td>\n",
       "      <td>0</td>\n",
       "      <td>5</td>\n",
       "      <td>1.000000</td>\n",
       "      <td>0.565518</td>\n",
       "    </tr>\n",
       "    <tr>\n",
       "      <th>1753</th>\n",
       "      <td>5.000000</td>\n",
       "      <td>5</td>\n",
       "      <td>5</td>\n",
       "      <td>776</td>\n",
       "      <td>0</td>\n",
       "      <td>5</td>\n",
       "      <td>1.000000</td>\n",
       "      <td>0.565518</td>\n",
       "    </tr>\n",
       "  </tbody>\n",
       "</table>\n",
       "</div>"
      ],
      "text/plain": [
       "      overall  helpful_yes  total_vote  days  helpful_no  score_pos_neg_diff  score_average_rating  wilson_lower_bound\n",
       "2031 5.000000         1952        2020   701          68                1884              0.966337            0.957544\n",
       "3449 5.000000         1428        1505   802          77                1351              0.948837            0.936519\n",
       "4212 1.000000         1568        1694   578         126                1442              0.925620            0.912139\n",
       "317  1.000000          422         495  1032          73                 349              0.852525            0.818577\n",
       "4672 5.000000           45          49   157           4                  41              0.918367            0.808109\n",
       "1835 5.000000           60          68   282           8                  52              0.882353            0.784651\n",
       "3981 5.000000          112         139   776          27                  85              0.805755            0.732136\n",
       "3807 3.000000           22          25   648           3                  19              0.880000            0.700442\n",
       "4306 5.000000           51          65   822          14                  37              0.784615            0.670334\n",
       "4596 1.000000           82         109   806          27                  55              0.752294            0.663595\n",
       "315  5.000000           38          48   846          10                  28              0.791667            0.657411\n",
       "1465 4.000000            7           7   237           0                   7              1.000000            0.645670\n",
       "1609 5.000000            7           7   256           0                   7              1.000000            0.645670\n",
       "4302 5.000000           14          16   261           2                  12              0.875000            0.639772\n",
       "4072 5.000000            6           6   758           0                   6              1.000000            0.609666\n",
       "1072 5.000000            5           5   941           0                   5              1.000000            0.565518\n",
       "2583 5.000000            5           5   488           0                   5              1.000000            0.565518\n",
       "121  5.000000            5           5   942           0                   5              1.000000            0.565518\n",
       "1142 5.000000            5           5   306           0                   5              1.000000            0.565518\n",
       "1753 5.000000            5           5   776           0                   5              1.000000            0.565518"
      ]
     },
     "execution_count": 56,
     "metadata": {},
     "output_type": "execute_result"
    }
   ],
   "source": [
    "df[[\"overall\",\"helpful_yes\",\"total_vote\",\"days\",\"helpful_no\", \"score_pos_neg_diff\", \"score_average_rating\",\"wilson_lower_bound\"]]\\\n",
    ".sort_values(\"wilson_lower_bound\", ascending= False).head(20)"
   ]
  }
 ],
 "metadata": {
  "kernelspec": {
   "display_name": "Python 3 (ipykernel)",
   "language": "python",
   "name": "python3"
  },
  "language_info": {
   "codemirror_mode": {
    "name": "ipython",
    "version": 3
   },
   "file_extension": ".py",
   "mimetype": "text/x-python",
   "name": "python",
   "nbconvert_exporter": "python",
   "pygments_lexer": "ipython3",
   "version": "3.12.7"
  }
 },
 "nbformat": 4,
 "nbformat_minor": 5
}
